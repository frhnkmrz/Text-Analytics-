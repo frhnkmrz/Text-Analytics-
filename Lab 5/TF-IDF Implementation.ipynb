{
 "cells": [
  {
   "cell_type": "code",
   "execution_count": 1,
   "id": "c598c1cd-1b58-4a31-bf44-7d4460552b63",
   "metadata": {},
   "outputs": [],
   "source": [
    "import pandas as pd\n",
    "import math # use for log function\n",
    "from collections import Counter"
   ]
  },
  {
   "cell_type": "code",
   "execution_count": 2,
   "id": "1481b44e-0d9c-418c-8bf0-93e554058a17",
   "metadata": {},
   "outputs": [],
   "source": [
    "file_path = \"Processed_Reviews.csv\"\n",
    "df = pd.read_csv(file_path)"
   ]
  },
  {
   "cell_type": "code",
   "execution_count": 5,
   "id": "7eb43198-c3ed-4744-875c-ae5b5b0efeb3",
   "metadata": {},
   "outputs": [],
   "source": [
    "tokenized_reviews = df['tokenized'].dropna().apply(eval)"
   ]
  },
  {
   "cell_type": "code",
   "execution_count": 7,
   "id": "614739f2-bf7b-4dd1-a259-6bcd9d691c0e",
   "metadata": {},
   "outputs": [],
   "source": [
    "def compute_tf(document):\n",
    " word_count = Counter(document)\n",
    " tf = {word: count / len(document) for word, count in word_count.items()}\n",
    " return tf"
   ]
  },
  {
   "cell_type": "code",
   "execution_count": 18,
   "id": "b3bb6059-900b-4f5a-a6ac-4d601b6d9b21",
   "metadata": {},
   "outputs": [],
   "source": [
    "def compute_idf(documents):\n",
    "     N = len(documents) # Total number of documents\n",
    "     idf = {}\n",
    "     all_words = set(word for doc in documents for word in doc) # Unique words\n",
    "     for word in all_words:\n",
    "         count = sum(1 for doc in documents if word in doc)\n",
    "         idf[word] = math.log(N / count)\n",
    "     return idf"
   ]
  },
  {
   "cell_type": "code",
   "execution_count": 22,
   "id": "9b7680d9-9c85-49d6-bd5b-894ef76e0c4b",
   "metadata": {},
   "outputs": [],
   "source": [
    "def compute_tfidf(document, idf):\n",
    "     tfidf = {}\n",
    "     tf = compute_tf(document) # Get TF values for the document\n",
    "     for word, tf_value in tf.items():\n",
    "         tfidf[word] = tf_value * idf[word] # Multiply TF and IDF\n",
    "     return tfidf"
   ]
  },
  {
   "cell_type": "code",
   "execution_count": 24,
   "id": "80ecb673-13fa-45ef-9ec7-20c45771c91d",
   "metadata": {},
   "outputs": [],
   "source": [
    "documents = tokenized_reviews.tolist()"
   ]
  },
  {
   "cell_type": "code",
   "execution_count": 26,
   "id": "353a58ee-3c54-4ed2-8a97-92a1954930e0",
   "metadata": {},
   "outputs": [],
   "source": [
    "tf_data = [compute_tf(doc) for doc in documents]\n",
    "tf_df = pd.DataFrame(tf_data).fillna(0)\n",
    "tf_df.to_csv(\"tf_scores.csv\", index=False)"
   ]
  },
  {
   "cell_type": "code",
   "execution_count": 28,
   "id": "8760ece3-8882-4e68-916f-0ce282b8b037",
   "metadata": {},
   "outputs": [],
   "source": [
    "idf = compute_idf(documents)\n",
    "idf_df = pd.DataFrame([idf]).fillna(0)\n",
    "idf_df.to_csv(\"idf_scores.csv\", index=False)"
   ]
  },
  {
   "cell_type": "code",
   "execution_count": 30,
   "id": "1773e344-132b-4784-b08e-2d937f90d83d",
   "metadata": {},
   "outputs": [],
   "source": [
    "tfidf_data = [compute_tfidf(doc, idf) for doc in documents]\n",
    "tfidf_df = pd.DataFrame(tfidf_data).fillna(0)\n",
    "tfidf_df.to_csv(\"tfidf_scores.csv\", index=False)"
   ]
  },
  {
   "cell_type": "code",
   "execution_count": null,
   "id": "65092572-22b5-4131-8f4f-d501299d1e56",
   "metadata": {},
   "outputs": [],
   "source": []
  }
 ],
 "metadata": {
  "kernelspec": {
   "display_name": "Python 3 (ipykernel)",
   "language": "python",
   "name": "python3"
  },
  "language_info": {
   "codemirror_mode": {
    "name": "ipython",
    "version": 3
   },
   "file_extension": ".py",
   "mimetype": "text/x-python",
   "name": "python",
   "nbconvert_exporter": "python",
   "pygments_lexer": "ipython3",
   "version": "3.12.4"
  }
 },
 "nbformat": 4,
 "nbformat_minor": 5
}
