{
 "cells": [
  {
   "cell_type": "markdown",
   "id": "76797982-1a21-4cfb-bc11-884db65510c9",
   "metadata": {},
   "source": [
    "<b><h1><center>Lab 2 : Regular Expressions</center></h1></b>"
   ]
  },
  {
   "cell_type": "markdown",
   "id": "f773a4d1-6631-4423-9dc1-5144f74c7a94",
   "metadata": {},
   "source": [
    "<b><h3>Name : Amirul Farhan Bin Kamaruzaman</h3></b>"
   ]
  },
  {
   "cell_type": "markdown",
   "id": "79c1f7c2-6465-4e9c-b3f7-333eb4328a38",
   "metadata": {},
   "source": [
    "<b><h3>Student ID : SW01082374</h3></b>"
   ]
  },
  {
   "cell_type": "code",
   "execution_count": 14,
   "id": "9b56d9a3-9bcb-4d08-ab03-9088430e5d6a",
   "metadata": {},
   "outputs": [
    {
     "name": "stdout",
     "output_type": "stream",
     "text": [
      "Digits found: ['2', '4', '5', '6', '7', '8', '9', '3', '4', '1', '2', '3', '0']\n"
     ]
    }
   ],
   "source": [
    "import re\n",
    "text = \"Order number: 24567, Tracking ID: 8934A12, Quantity: 30\"\n",
    "# Write your regular expression here\n",
    "pattern = r\"\\d\"\n",
    "matches = re.findall(pattern, text)\n",
    "print(\"Digits found:\", matches)\n"
   ]
  },
  {
   "cell_type": "code",
   "execution_count": 18,
   "id": "a87471b6-6500-430e-95e5-254b22d00403",
   "metadata": {},
   "outputs": [
    {
     "name": "stdout",
     "output_type": "stream",
     "text": [
      "Non-alphanumeric characters: ['!', ' ', \"'\", ' ', ' ', ' ', '?', ' ', ' ', ' ', '@', ' ', '.']\n"
     ]
    }
   ],
   "source": [
    "text = \"Welcome! How's your day going? Call me @ 3pm.\"\n",
    "pattern = r\"\\W\"\n",
    "matches = re.findall(pattern, text)\n",
    "print(\"Non-alphanumeric characters:\", matches)"
   ]
  },
  {
   "cell_type": "code",
   "execution_count": 22,
   "id": "6ffc75b7-e3b3-49b7-b139-a917d37e753a",
   "metadata": {},
   "outputs": [
    {
     "name": "stdout",
     "output_type": "stream",
     "text": [
      "Split text: ['Data Science', ' AI', ' and Machine Learning', ' These fields are growing fast', '']\n"
     ]
    }
   ],
   "source": [
    "text = \"Data Science, AI, and Machine Learning. These fields are growing fast.\"\n",
    "pattern = r\"[,.]\"\n",
    "split_text = re.split(pattern, text)\n",
    "print(\"Split text:\", split_text)\n"
   ]
  },
  {
   "cell_type": "code",
   "execution_count": 40,
   "id": "aff012a0-60f5-41f1-88e2-f3362994ea0c",
   "metadata": {},
   "outputs": [
    {
     "name": "stdout",
     "output_type": "stream",
     "text": [
      "Anonymized text: Contact us at [HIDDEN] or [HIDDEN]\n"
     ]
    }
   ],
   "source": [
    "text = \"Contact us at support@example.com or info@company.org\"\n",
    "pattern = r\"[a-zA-Z0-9._%+-]+@[a-zA-Z0-9.-]+\\.[a-zA-Z]{2,}\"\n",
    "\n",
    "new_text = re.sub(pattern, \"[HIDDEN]\", text)\n",
    "print(\"Anonymized text:\", new_text)\n"
   ]
  },
  {
   "cell_type": "code",
   "execution_count": 24,
   "id": "a92b53c1-d293-4b0f-85e9-f9a0901986c6",
   "metadata": {},
   "outputs": [
    {
     "name": "stdout",
     "output_type": "stream",
     "text": [
      "Domain types: ['com', 'edu', 'org']\n"
     ]
    }
   ],
   "source": [
    "text = \"Emails: user@gmail.com, admin@university.edu, info@company.org\"\n",
    "pattern = r'@\\w+.(\\w+.\\w+)'\n",
    "matches = re.findall(pattern, text)\n",
    "print(\"Domain types:\", matches)"
   ]
  },
  {
   "cell_type": "code",
   "execution_count": null,
   "id": "a76384d8-9286-41cb-92de-7d63784392a6",
   "metadata": {},
   "outputs": [],
   "source": []
  }
 ],
 "metadata": {
  "kernelspec": {
   "display_name": "Python 3 (ipykernel)",
   "language": "python",
   "name": "python3"
  },
  "language_info": {
   "codemirror_mode": {
    "name": "ipython",
    "version": 3
   },
   "file_extension": ".py",
   "mimetype": "text/x-python",
   "name": "python",
   "nbconvert_exporter": "python",
   "pygments_lexer": "ipython3",
   "version": "3.12.4"
  }
 },
 "nbformat": 4,
 "nbformat_minor": 5
}
