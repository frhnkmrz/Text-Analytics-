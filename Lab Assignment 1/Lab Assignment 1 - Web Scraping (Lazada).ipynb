{
 "cells": [
  {
   "cell_type": "markdown",
   "id": "1c671165-c676-4bac-a6bb-87146cb25537",
   "metadata": {},
   "source": [
    "#### <center> CISB5123 Text Analytics </center>\n",
    "#### <center> Sem 2 2024/2025 </center>"
   ]
  },
  {
   "cell_type": "markdown",
   "id": "3e2a2861-6f58-4d95-8393-793dacd0620b",
   "metadata": {},
   "source": [
    "### <center> Lab Assignment 1 - Web Scraping </center>"
   ]
  },
  {
   "cell_type": "markdown",
   "id": "3d3d84ff-f3fc-40c2-89e7-009ab26d4698",
   "metadata": {},
   "source": [
    "### 1) Amirul Farhan bin Kamaruzaman, SW01082374\n",
    "### 2) Maizatul Aufa binti Zamidi, SW01082394"
   ]
  },
  {
   "cell_type": "code",
   "execution_count": 9,
   "id": "dbd237de-ad7e-44c6-8a35-9ff8c2539529",
   "metadata": {},
   "outputs": [
    {
     "name": "stdout",
     "output_type": "stream",
     "text": [
      "Requirement already satisfied: selenium in c:\\anaconda\\lib\\site-packages (4.29.0)\n",
      "Requirement already satisfied: urllib3<3,>=1.26 in c:\\anaconda\\lib\\site-packages (from urllib3[socks]<3,>=1.26->selenium) (2.2.2)\n",
      "Requirement already satisfied: trio~=0.17 in c:\\anaconda\\lib\\site-packages (from selenium) (0.29.0)\n",
      "Requirement already satisfied: trio-websocket~=0.9 in c:\\anaconda\\lib\\site-packages (from selenium) (0.12.2)\n",
      "Requirement already satisfied: certifi>=2021.10.8 in c:\\anaconda\\lib\\site-packages (from selenium) (2024.8.30)\n",
      "Requirement already satisfied: typing_extensions~=4.9 in c:\\anaconda\\lib\\site-packages (from selenium) (4.11.0)\n",
      "Requirement already satisfied: websocket-client~=1.8 in c:\\anaconda\\lib\\site-packages (from selenium) (1.8.0)\n",
      "Requirement already satisfied: attrs>=23.2.0 in c:\\anaconda\\lib\\site-packages (from trio~=0.17->selenium) (25.3.0)\n",
      "Requirement already satisfied: sortedcontainers in c:\\anaconda\\lib\\site-packages (from trio~=0.17->selenium) (2.4.0)\n",
      "Requirement already satisfied: idna in c:\\anaconda\\lib\\site-packages (from trio~=0.17->selenium) (3.7)\n",
      "Requirement already satisfied: outcome in c:\\anaconda\\lib\\site-packages (from trio~=0.17->selenium) (1.3.0.post0)\n",
      "Requirement already satisfied: sniffio>=1.3.0 in c:\\anaconda\\lib\\site-packages (from trio~=0.17->selenium) (1.3.0)\n",
      "Requirement already satisfied: cffi>=1.14 in c:\\anaconda\\lib\\site-packages (from trio~=0.17->selenium) (1.16.0)\n",
      "Requirement already satisfied: wsproto>=0.14 in c:\\anaconda\\lib\\site-packages (from trio-websocket~=0.9->selenium) (1.2.0)\n",
      "Requirement already satisfied: pysocks!=1.5.7,<2.0,>=1.5.6 in c:\\anaconda\\lib\\site-packages (from urllib3[socks]<3,>=1.26->selenium) (1.7.1)\n",
      "Requirement already satisfied: pycparser in c:\\anaconda\\lib\\site-packages (from cffi>=1.14->trio~=0.17->selenium) (2.21)\n",
      "Requirement already satisfied: h11<1,>=0.9.0 in c:\\anaconda\\lib\\site-packages (from wsproto>=0.14->trio-websocket~=0.9->selenium) (0.14.0)\n"
     ]
    }
   ],
   "source": [
    "!pip install selenium"
   ]
  },
  {
   "cell_type": "code",
   "execution_count": 10,
   "id": "ddfb0e0a-cfdc-4e3c-8c02-afa9db07dabf",
   "metadata": {},
   "outputs": [
    {
     "name": "stdout",
     "output_type": "stream",
     "text": [
      "Name: selenium\n",
      "Version: 4.29.0\n",
      "Summary: Official Python bindings for Selenium WebDriver\n",
      "Home-page: https://www.selenium.dev\n",
      "Author: \n",
      "Author-email: \n",
      "License: Apache 2.0\n",
      "Location: C:\\Anaconda\\Lib\\site-packages\n",
      "Requires: certifi, trio, trio-websocket, typing_extensions, urllib3, websocket-client\n",
      "Required-by: \n",
      "Note: you may need to restart the kernel to use updated packages.\n"
     ]
    }
   ],
   "source": [
    "pip show selenium"
   ]
  },
  {
   "cell_type": "code",
   "execution_count": 47,
   "id": "3d0d44ee-959c-405f-ba43-ad1eb787d8e4",
   "metadata": {},
   "outputs": [
    {
     "name": "stdout",
     "output_type": "stream",
     "text": [
      "Scraping page 1...\n",
      "Scraping page 2...\n",
      "Scraping page 3...\n",
      "Scraping page 4...\n",
      "Scraping page 5...\n",
      "Reviews successfully saved to lazada_reviews.csv\n"
     ]
    }
   ],
   "source": [
    "from selenium import webdriver\n",
    "from selenium.webdriver.common.by import By\n",
    "from selenium.webdriver.chrome.service import Service\n",
    "from selenium.webdriver.support.ui import WebDriverWait\n",
    "from selenium.webdriver.support import expected_conditions as EC\n",
    "import pandas as pd\n",
    "import time\n",
    "\n",
    "# Set up WebDriver\n",
    "chrome_driver_path = \"C:/Users/Amirul Farhan/Text Analytics/Lab Assignment 1/chromedriver-win64/chromedriver.exe\"\n",
    "service = Service(chrome_driver_path)\n",
    "driver = webdriver.Chrome(service=service)\n",
    "\n",
    "# Lazada Product URL\n",
    "url = \"https://www.lazada.com.my/products/expose-monitor-27-inch-curved-gaming-monitor-165hz-led-monitor-computer-frameless-murah-1080p-hdmi-wide-screen-display-monitor-i3780653745-s21774949370.html\"\n",
    "driver.get(url)\n",
    "time.sleep(5)  # Allow time for the page to load\n",
    "\n",
    "def scroll_to_bottom():\n",
    "    \"\"\"Scroll multiple times to load all reviews properly\"\"\"\n",
    "    for _ in range(3):  # Scroll multiple times to ensure loading\n",
    "        driver.execute_script(\"window.scrollBy(0, 1000);\")\n",
    "        time.sleep(2)  # Allow time for reviews to load\n",
    "\n",
    "def extract_reviews():\n",
    "    \"\"\"Extract reviews from Lazada\"\"\"\n",
    "    reviews = []\n",
    "    \n",
    "    for page in range(1, 6):  # Limit to 5 pages\n",
    "        print(f\"Scraping page {page}...\")\n",
    "\n",
    "        scroll_to_bottom()  # Scroll to load content\n",
    "        \n",
    "        try:\n",
    "            # Explicit wait for review elements\n",
    "            WebDriverWait(driver, 10).until(\n",
    "                EC.presence_of_element_located((By.CLASS_NAME, \"item\"))\n",
    "            )\n",
    "\n",
    "            review_elements = driver.find_elements(By.CLASS_NAME, \"item\")  # Locate reviews\n",
    "            \n",
    "            for review in review_elements:\n",
    "                try:\n",
    "                    # Extract Reviewer Name\n",
    "                    name = review.find_element(By.CLASS_NAME, \"middle\").find_element(By.TAG_NAME, \"span\").text.strip()\n",
    "                    \n",
    "                    # Extract Review Date\n",
    "                    date_element = review.find_elements(By.CLASS_NAME, \"title\")  \n",
    "                    date = date_element[0].text.strip() if len(date_element) > 0 else \"Date not found\"\n",
    "                    \n",
    "                    # Extract Review Content\n",
    "                    content_element = review.find_elements(By.CLASS_NAME, \"content\")\n",
    "                    content = content_element[0].text.strip() if len(content_element) > 0 else \"No review text\"\n",
    "                    \n",
    "                    # Append extracted data\n",
    "                    reviews.append([name, date, content])\n",
    "                except Exception as e:\n",
    "                    print(f\"Skipping review due to error: {e}\")\n",
    "                    continue\n",
    "\n",
    "            # Find the next page button\n",
    "            try:\n",
    "                next_button = driver.find_element(By.CSS_SELECTOR, \"button.next-pagination-item.next\")\n",
    "                \n",
    "                if next_button:\n",
    "                    # Scroll next button into view\n",
    "                    driver.execute_script(\"arguments[0].scrollIntoView();\", next_button)\n",
    "                    time.sleep(1)\n",
    "\n",
    "                    # Try normal click, if fails use JavaScript\n",
    "                    try:\n",
    "                        next_button.click()\n",
    "                    except:\n",
    "                        driver.execute_script(\"arguments[0].click();\", next_button)\n",
    "\n",
    "                    time.sleep(3)  # Allow next page to load\n",
    "\n",
    "                else:\n",
    "                    print(\"'Next' button not found.\")\n",
    "                    break  # Stop if no pagination is found\n",
    "\n",
    "            except Exception as e:\n",
    "                print(f\"Pagination issue: {e}\")\n",
    "                break  # Stop if no next page available\n",
    "\n",
    "        except Exception as e:\n",
    "            print(f\"Error: {e}\")\n",
    "            break\n",
    "\n",
    "    return reviews\n",
    "\n",
    "# Extract the reviews\n",
    "data = extract_reviews()\n",
    "\n",
    "# Save to CSV\n",
    "if data:\n",
    "    df = pd.DataFrame(data, columns=[\"Reviewer Name\", \"Review Date\", \"Review Content\"])\n",
    "    df.to_csv(\"lazada_reviews.csv\", index=False, encoding='utf-8')\n",
    "    print(\"Reviews successfully saved to lazada_reviews.csv\")\n",
    "else:\n",
    "    print(\"No reviews found.\")\n",
    "\n",
    "# Close WebDriver\n",
    "driver.quit()\n"
   ]
  },
  {
   "cell_type": "code",
   "execution_count": null,
   "id": "9f0da40c-6961-4be8-a0b4-c363a3293dae",
   "metadata": {},
   "outputs": [],
   "source": []
  }
 ],
 "metadata": {
  "kernelspec": {
   "display_name": "Python 3 (ipykernel)",
   "language": "python",
   "name": "python3"
  },
  "language_info": {
   "codemirror_mode": {
    "name": "ipython",
    "version": 3
   },
   "file_extension": ".py",
   "mimetype": "text/x-python",
   "name": "python",
   "nbconvert_exporter": "python",
   "pygments_lexer": "ipython3",
   "version": "3.12.4"
  }
 },
 "nbformat": 4,
 "nbformat_minor": 5
}
